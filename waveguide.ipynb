{
 "cells": [
  {
   "cell_type": "code",
   "execution_count": 9,
   "id": "04cbbb7c-5f6e-4a79-b5b3-994d63cb2f27",
   "metadata": {},
   "outputs": [
    {
     "data": {
      "application/vnd.jupyter.widget-view+json": {
       "model_id": "cf45d0eb0dca4f30b13cbfccab7cddbe",
       "version_major": 2,
       "version_minor": 0
      },
      "text/plain": [
       "interactive(children=(IntSlider(value=0, description='m (x-mode)', max=5), IntSlider(value=1, description='n (…"
      ]
     },
     "metadata": {},
     "output_type": "display_data"
    },
    {
     "data": {
      "text/plain": [
       "<function __main__.plot_waveguide(m=0, n=1)>"
      ]
     },
     "execution_count": 9,
     "metadata": {},
     "output_type": "execute_result"
    }
   ],
   "source": [
    "import numpy as np\n",
    "import plotly.graph_objs as go\n",
    "import ipywidgets as widgets\n",
    "from ipywidgets import interact\n",
    "\n",
    "# Constants\n",
    "a, b = 1.0, 0.5  # Waveguide dimensions\n",
    "omega = 2 * np.pi * 10e9\n",
    "mu = 4 * np.pi * 1e-7\n",
    "\n",
    "# Grid resolution\n",
    "Nx, Ny, Nz = 30, 15, 60\n",
    "x = np.linspace(0, a, Nx)\n",
    "y = np.linspace(0, b, Ny)\n",
    "z = np.linspace(0, 5, Nz)\n",
    "X, Y, Z = np.meshgrid(x, y, z, indexing='ij')\n",
    "\n",
    "# Plotting function with sliders\n",
    "def plot_waveguide(m=0, n=1):\n",
    "    if m == 0 and n == 0:\n",
    "        print(\"TE₀₀ mode does not exist.\")\n",
    "        return\n",
    "\n",
    "    kc2 = (m * np.pi / a)**2 + (n * np.pi / b)**2\n",
    "    beta_mn = 2 * np.pi  # simplified constant for visualization\n",
    "\n",
    "    # Field components\n",
    "    Ex = (omega * mu * n * np.pi / (kc2 * b)) * np.cos(m * np.pi * X / a) * np.sin(n * np.pi * Y / b) * np.cos(beta_mn * Z)\n",
    "    Ey = -(omega * mu * m * np.pi / (kc2 * a)) * np.sin(m * np.pi * X / a) * np.cos(n * np.pi * Y / b) * np.cos(beta_mn * Z)\n",
    "    E_mag = np.sqrt(Ex**2 + Ey**2)\n",
    "    E_norm = E_mag / np.max(E_mag)\n",
    "\n",
    "    # Flatten for plotting\n",
    "    x_vals = Y.flatten()  # height\n",
    "    y_vals = X.flatten()  # width\n",
    "    z_vals = Z.flatten()  # propagation\n",
    "    c_vals = E_norm.flatten()\n",
    "\n",
    "    # Plot\n",
    "    fig = go.Figure(data=go.Scatter3d(\n",
    "        x=z_vals,\n",
    "        y=y_vals,\n",
    "        z=x_vals,\n",
    "        mode='markers',\n",
    "        marker=dict(\n",
    "            size=2.7,\n",
    "            symbol='square',\n",
    "            color=c_vals,\n",
    "            colorscale='Plasma',\n",
    "            opacity=1.0,\n",
    "            colorbar=dict(title='|E|')\n",
    "        )\n",
    "    ))\n",
    "\n",
    "    fig.update_layout(\n",
    "    title=f\"TEₘₙ Mode |E| (m={m}, n={n})\",\n",
    "    scene=dict(\n",
    "        xaxis=dict(title=\"z (propagation)\", range=[0, 5]),\n",
    "        yaxis=dict(title=\"x (width)\", range=[0, a]),\n",
    "        zaxis=dict(title=\"y (height)\", range=[0, b]),\n",
    "        aspectmode='manual',\n",
    "        aspectratio=dict(x=5, y=a, z=b),\n",
    "        camera=dict(\n",
    "            eye=dict(x=3, y=3, z=5)  # <- default view angle\n",
    "        )\n",
    "    ),\n",
    "    width=900,\n",
    "    height=700\n",
    ")\n",
    "\n",
    "    fig.show()\n",
    "\n",
    "# Interactive sliders\n",
    "interact(plot_waveguide, \n",
    "         m=widgets.IntSlider(value=0, min=0, max=5, step=1, description='m (x-mode)'), \n",
    "         n=widgets.IntSlider(value=1, min=0, max=5, step=1, description='n (y-mode)'))\n"
   ]
  },
  {
   "cell_type": "code",
   "execution_count": null,
   "id": "5aee567b-8c99-4943-a1e5-320b909e655e",
   "metadata": {},
   "outputs": [],
   "source": []
  }
 ],
 "metadata": {
  "kernelspec": {
   "display_name": "Python 3 (ipykernel)",
   "language": "python",
   "name": "python3"
  },
  "language_info": {
   "codemirror_mode": {
    "name": "ipython",
    "version": 3
   },
   "file_extension": ".py",
   "mimetype": "text/x-python",
   "name": "python",
   "nbconvert_exporter": "python",
   "pygments_lexer": "ipython3",
   "version": "3.11.7"
  }
 },
 "nbformat": 4,
 "nbformat_minor": 5
}
